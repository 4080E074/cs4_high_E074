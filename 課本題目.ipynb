{
  "nbformat": 4,
  "nbformat_minor": 0,
  "metadata": {
    "colab": {
      "name": "課本題目.ipynb",
      "provenance": [],
      "include_colab_link": true
    },
    "kernelspec": {
      "name": "python3",
      "display_name": "Python 3"
    }
  },
  "cells": [
    {
      "cell_type": "markdown",
      "metadata": {
        "id": "view-in-github",
        "colab_type": "text"
      },
      "source": [
        "<a href=\"https://colab.research.google.com/github/4080E074/cs4_high_E074/blob/master/%E8%AA%B2%E6%9C%AC%E9%A1%8C%E7%9B%AE.ipynb\" target=\"_parent\"><img src=\"https://colab.research.google.com/assets/colab-badge.svg\" alt=\"Open In Colab\"/></a>"
      ]
    },
    {
      "cell_type": "code",
      "metadata": {
        "id": "y6gaD0kVSvvF",
        "colab_type": "code",
        "colab": {
          "base_uri": "https://localhost:8080/",
          "height": 51
        },
        "outputId": "1e5483fa-d321-47bb-cf64-45ec67301d80"
      },
      "source": [
        "#4-11\n",
        "apples=5\n",
        "oranges=10\n",
        "fruits=0\n",
        "fruits=apples+oranges\n",
        "print(fruits)\n",
        "apples=20\n",
        "fruits=apples+oranges\n",
        "print(fruits)"
      ],
      "execution_count": 2,
      "outputs": [
        {
          "output_type": "stream",
          "text": [
            "15\n",
            "30\n"
          ],
          "name": "stdout"
        }
      ]
    },
    {
      "cell_type": "code",
      "metadata": {
        "id": "t-fToJBhWOfm",
        "colab_type": "code",
        "colab": {
          "base_uri": "https://localhost:8080/",
          "height": 34
        },
        "outputId": "509bbcbc-afee-4a40-e42a-c1f4c7a9e076"
      },
      "source": [
        "#4-12\n",
        "a=2\n",
        "b=2\n",
        "x=0\n",
        "x=b-a\n",
        "print(x)"
      ],
      "execution_count": 7,
      "outputs": [
        {
          "output_type": "stream",
          "text": [
            "0\n"
          ],
          "name": "stdout"
        }
      ]
    },
    {
      "cell_type": "code",
      "metadata": {
        "id": "hCgNCN9YeFO4",
        "colab_type": "code",
        "colab": {
          "base_uri": "https://localhost:8080/",
          "height": 68
        },
        "outputId": "9ed62e58-3e57-4ed8-884a-5882a1f941bc"
      },
      "source": [
        "#5-4\n",
        "six=0\n",
        "neg=0\n",
        "six=2+2+2\n",
        "print(six)\n",
        "neg=six*-6\n",
        "print(neg)\n",
        "neg/=10\n",
        "print(neg)\n"
      ],
      "execution_count": 9,
      "outputs": [
        {
          "output_type": "stream",
          "text": [
            "6\n",
            "-36\n",
            "-3.6\n"
          ],
          "name": "stdout"
        }
      ]
    },
    {
      "cell_type": "code",
      "metadata": {
        "id": "XQbDOZxEeTRj",
        "colab_type": "code",
        "colab": {
          "base_uri": "https://localhost:8080/",
          "height": 51
        },
        "outputId": "5fdc6bed-5646-435d-d91d-b3578352af16"
      },
      "source": [
        "#5-4\n",
        "half=0\n",
        "half=0.25*2\n",
        "print(half)\n",
        "other_half=0\n",
        "other_half=1-half\n",
        "print(other_half)"
      ],
      "execution_count": 12,
      "outputs": [
        {
          "output_type": "stream",
          "text": [
            "0.5\n",
            "0.5\n"
          ],
          "name": "stdout"
        }
      ]
    },
    {
      "cell_type": "code",
      "metadata": {
        "id": "ObwkvtcBhUFa",
        "colab_type": "code",
        "colab": {
          "base_uri": "https://localhost:8080/",
          "height": 68
        },
        "outputId": "84dd6ef1-15dd-4089-fe0a-65ea2754ddd0"
      },
      "source": [
        "#5-5\n",
        "\n",
        "cold=2>1\n",
        "print(cold)\n",
        "rain=3<2\n",
        "print(rain)\n",
        "day=cold and rain\n",
        "print(day)"
      ],
      "execution_count": 20,
      "outputs": [
        {
          "output_type": "stream",
          "text": [
            "True\n",
            "False\n",
            "False\n"
          ],
          "name": "stdout"
        }
      ]
    }
  ]
}