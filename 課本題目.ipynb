{
  "nbformat": 4,
  "nbformat_minor": 0,
  "metadata": {
    "colab": {
      "name": "課本題目.ipynb",
      "provenance": [],
      "include_colab_link": true
    },
    "kernelspec": {
      "name": "python3",
      "display_name": "Python 3"
    }
  },
  "cells": [
    {
      "cell_type": "markdown",
      "metadata": {
        "id": "view-in-github",
        "colab_type": "text"
      },
      "source": [
        "<a href=\"https://colab.research.google.com/github/4080E074/cs4_high_E074/blob/master/%E8%AA%B2%E6%9C%AC%E9%A1%8C%E7%9B%AE.ipynb\" target=\"_parent\"><img src=\"https://colab.research.google.com/assets/colab-badge.svg\" alt=\"Open In Colab\"/></a>"
      ]
    },
    {
      "cell_type": "code",
      "metadata": {
        "id": "y6gaD0kVSvvF",
        "colab_type": "code",
        "outputId": "1e5483fa-d321-47bb-cf64-45ec67301d80",
        "colab": {
          "base_uri": "https://localhost:8080/",
          "height": 51
        }
      },
      "source": [
        "#4-11\n",
        "apples=5\n",
        "oranges=10\n",
        "fruits=0\n",
        "fruits=apples+oranges\n",
        "print(fruits)\n",
        "apples=20\n",
        "fruits=apples+oranges\n",
        "print(fruits)"
      ],
      "execution_count": 0,
      "outputs": [
        {
          "output_type": "stream",
          "text": [
            "15\n",
            "30\n"
          ],
          "name": "stdout"
        }
      ]
    },
    {
      "cell_type": "code",
      "metadata": {
        "id": "t-fToJBhWOfm",
        "colab_type": "code",
        "outputId": "509bbcbc-afee-4a40-e42a-c1f4c7a9e076",
        "colab": {
          "base_uri": "https://localhost:8080/",
          "height": 34
        }
      },
      "source": [
        "#4-12\n",
        "a=2\n",
        "b=2\n",
        "x=0\n",
        "x=b-a\n",
        "print(x)"
      ],
      "execution_count": 0,
      "outputs": [
        {
          "output_type": "stream",
          "text": [
            "0\n"
          ],
          "name": "stdout"
        }
      ]
    },
    {
      "cell_type": "code",
      "metadata": {
        "id": "hCgNCN9YeFO4",
        "colab_type": "code",
        "outputId": "9ed62e58-3e57-4ed8-884a-5882a1f941bc",
        "colab": {
          "base_uri": "https://localhost:8080/",
          "height": 68
        }
      },
      "source": [
        "#5-4\n",
        "six=0\n",
        "neg=0\n",
        "six=2+2+2\n",
        "print(six)\n",
        "neg=six*-6\n",
        "print(neg)\n",
        "neg/=10\n",
        "print(neg)\n"
      ],
      "execution_count": 0,
      "outputs": [
        {
          "output_type": "stream",
          "text": [
            "6\n",
            "-36\n",
            "-3.6\n"
          ],
          "name": "stdout"
        }
      ]
    },
    {
      "cell_type": "code",
      "metadata": {
        "id": "XQbDOZxEeTRj",
        "colab_type": "code",
        "outputId": "5fdc6bed-5646-435d-d91d-b3578352af16",
        "colab": {
          "base_uri": "https://localhost:8080/",
          "height": 51
        }
      },
      "source": [
        "#5-4\n",
        "half=0\n",
        "half=0.25*2\n",
        "print(half)\n",
        "other_half=0\n",
        "other_half=1-half\n",
        "print(other_half)"
      ],
      "execution_count": 0,
      "outputs": [
        {
          "output_type": "stream",
          "text": [
            "0.5\n",
            "0.5\n"
          ],
          "name": "stdout"
        }
      ]
    },
    {
      "cell_type": "code",
      "metadata": {
        "id": "ObwkvtcBhUFa",
        "colab_type": "code",
        "outputId": "84dd6ef1-15dd-4089-fe0a-65ea2754ddd0",
        "colab": {
          "base_uri": "https://localhost:8080/",
          "height": 68
        }
      },
      "source": [
        "#5-5\n",
        "\n",
        "cold=2>1\n",
        "print(cold)\n",
        "rain=3<2\n",
        "print(rain)\n",
        "day=cold and rain\n",
        "print(day)"
      ],
      "execution_count": 0,
      "outputs": [
        {
          "output_type": "stream",
          "text": [
            "True\n",
            "False\n",
            "False\n"
          ],
          "name": "stdout"
        }
      ]
    },
    {
      "cell_type": "code",
      "metadata": {
        "id": "u7yCNt9ITRMW",
        "colab_type": "code",
        "outputId": "b5524d73-45d4-47d9-e403-43ab49dbb2cd",
        "colab": {
          "base_uri": "https://localhost:8080/",
          "height": 67
        }
      },
      "source": [
        "#5-5\n",
        "one=\"\"\n",
        "another_one=\"\"\n",
        "last_one=\"\"\n",
        "one=\"one\"\n",
        "another_one=\"1.0\"\n",
        "last_one=\"one 1\"\n",
        "print(one)\n",
        "print(another_one)\n",
        "print(last_one)"
      ],
      "execution_count": 0,
      "outputs": [
        {
          "output_type": "stream",
          "text": [
            "one\n",
            "1.0\n",
            "one 1\n"
          ],
          "name": "stdout"
        }
      ]
    },
    {
      "cell_type": "code",
      "metadata": {
        "id": "wmKm2p4AUbNh",
        "colab_type": "code",
        "outputId": "08e9b831-3fe3-4b44-8493-06cea5cd0ac7",
        "colab": {
          "base_uri": "https://localhost:8080/",
          "height": 101
        }
      },
      "source": [
        "#5-8\n",
        "a=\"\"\n",
        "b=1.0\n",
        "c=\"\"\n",
        "d=0\n",
        "e=0\n",
        "a=str(True)\n",
        "b=float(3)\n",
        "c=str(3.8)\n",
        "d=int(0.5)\n",
        "e=int(\"4\")\n",
        "print(a)\n",
        "print(b)\n",
        "print(c)\n",
        "print(d)\n",
        "print(e)\n"
      ],
      "execution_count": 0,
      "outputs": [
        {
          "output_type": "stream",
          "text": [
            "True\n",
            "3.0\n",
            "3.8\n",
            "0\n",
            "4\n"
          ],
          "name": "stdout"
        }
      ]
    },
    {
      "cell_type": "code",
      "metadata": {
        "id": "aaXhnRudY6PC",
        "colab_type": "code",
        "outputId": "177f2f33-28b6-4481-968b-60e29590d74a",
        "colab": {
          "base_uri": "https://localhost:8080/",
          "height": 34
        }
      },
      "source": [
        "#5-10\n",
        "a=0.0\n",
        "a=9999/6\n",
        "print(a)\n"
      ],
      "execution_count": 0,
      "outputs": [
        {
          "output_type": "stream",
          "text": [
            "1666\n"
          ],
          "name": "stdout"
        }
      ]
    },
    {
      "cell_type": "code",
      "metadata": {
        "id": "e3B2VmrDcWRR",
        "colab_type": "code",
        "outputId": "276e645d-93f2-4da8-c78d-67c8e219421b",
        "colab": {
          "base_uri": "https://localhost:8080/",
          "height": 34
        }
      },
      "source": [
        "#6-5\n",
        "a=0\n",
        "a=777/60\n",
        "print(int(a))"
      ],
      "execution_count": 0,
      "outputs": [
        {
          "output_type": "stream",
          "text": [
            "12\n"
          ],
          "name": "stdout"
        }
      ]
    },
    {
      "cell_type": "code",
      "metadata": {
        "id": "_IG-rHdKdvOc",
        "colab_type": "code",
        "outputId": "6835b8a8-1e68-470e-a577-979f5bab62ec",
        "colab": {
          "base_uri": "https://localhost:8080/",
          "height": 84
        }
      },
      "source": [
        "#6-8\n",
        "minutes_to_convert=789\n",
        "minutes_part=0\n",
        "hours_part=0\n",
        "hours_part=int(minutes_to_convert/60)\n",
        "minutes_part=minutes_to_convert%60\n",
        "print(\"Hours\")\n",
        "print(hours_part)\n",
        "print(\"Minutes\")\n",
        "print(minutes_part)\n"
      ],
      "execution_count": 0,
      "outputs": [
        {
          "output_type": "stream",
          "text": [
            "Hours\n",
            "13\n",
            "Minutes\n",
            "9\n"
          ],
          "name": "stdout"
        }
      ]
    },
    {
      "cell_type": "code",
      "metadata": {
        "id": "bblWlekShzB5",
        "colab_type": "code",
        "outputId": "b2dd0f8d-de98-4a29-a675-4ff72bf30b34",
        "colab": {
          "base_uri": "https://localhost:8080/",
          "height": 34
        }
      },
      "source": [
        "#6-10\n",
        "F=75\n",
        "C=0\n",
        "C=int((F-32)/1.8)\n",
        "print(C)"
      ],
      "execution_count": 0,
      "outputs": [
        {
          "output_type": "stream",
          "text": [
            "23\n"
          ],
          "name": "stdout"
        }
      ]
    },
    {
      "cell_type": "code",
      "metadata": {
        "id": "ziQSG4vGj0JO",
        "colab_type": "code",
        "outputId": "6019a84b-1a96-435a-dad7-6e27f07a2298",
        "colab": {
          "base_uri": "https://localhost:8080/",
          "height": 118
        }
      },
      "source": [
        "#6-10\n",
        "miles=5\n",
        "km=0\n",
        "meters=0\n",
        "km=miles/0.62137\n",
        "meters=1000*km\n",
        "print(\"miles\")\n",
        "print(miles)\n",
        "print(\"km\")\n",
        "print(km)\n",
        "print(\"meters\")\n",
        "print(meters)"
      ],
      "execution_count": 0,
      "outputs": [
        {
          "output_type": "stream",
          "text": [
            "miles\n",
            "5\n",
            "km\n",
            "8.046735439432222\n",
            "meters\n",
            "8046.735439432222\n"
          ],
          "name": "stdout"
        }
      ]
    },
    {
      "cell_type": "code",
      "metadata": {
        "id": "RtETIEf0lYoC",
        "colab_type": "code",
        "outputId": "61fc2939-09d5-45d0-a6c2-bb9b08e984c3",
        "colab": {
          "base_uri": "https://localhost:8080/",
          "height": 84
        }
      },
      "source": [
        "#7-3\n",
        "print(\"hey there\"[1])\n",
        "print(\"TV guide\"[2])\n",
        "code=\"L33t hax0r5\"\n",
        "print(code[0])\n",
        "print(code[-4])"
      ],
      "execution_count": 0,
      "outputs": [
        {
          "output_type": "stream",
          "text": [
            "e\n",
            " \n",
            "L\n",
            "x\n"
          ],
          "name": "stdout"
        }
      ]
    },
    {
      "cell_type": "code",
      "metadata": {
        "id": "8qJCEn_SmhT3",
        "colab_type": "code",
        "outputId": "07846b39-7cca-427a-db01-b01fab6b982b",
        "colab": {
          "base_uri": "https://localhost:8080/",
          "height": 67
        }
      },
      "source": [
        "#7-5\n",
        "print(\"it's not impossible\"[1:2:1])\n",
        "print(\"Keeping Up With Python\"[-1:-20:-2])\n",
        "secret=\"mai p455w_zero_rD\"\n",
        "print(secret[-1:-8:-1])"
      ],
      "execution_count": 0,
      "outputs": [
        {
          "output_type": "stream",
          "text": [
            "t\n",
            "nhy tWp np\n",
            "Dr_orez\n"
          ],
          "name": "stdout"
        }
      ]
    },
    {
      "cell_type": "code",
      "metadata": {
        "id": "ATBYg7aOvoAT",
        "colab_type": "code",
        "outputId": "6a3f0ea0-0ac7-48a8-89bd-cc687d9fcbe8",
        "colab": {
          "base_uri": "https://localhost:8080/",
          "height": 84
        }
      },
      "source": [
        "#7-7\n",
        "a=\"python 4 ever&EVER\"\n",
        "print(a.capitalize())\n",
        "print(a.swapcase())\n",
        "print(a.upper())\n",
        "print(a.lower())\n"
      ],
      "execution_count": 0,
      "outputs": [
        {
          "output_type": "stream",
          "text": [
            "Python 4 ever&ever\n",
            "PYTHON 4 EVER&ever\n",
            "PYTHON 4 EVER&EVER\n",
            "python 4 ever&ever\n"
          ],
          "name": "stdout"
        }
      ]
    },
    {
      "cell_type": "code",
      "metadata": {
        "id": "0-XXrMlmxuHU",
        "colab_type": "code",
        "outputId": "7ff91e8c-bb2e-406a-9b29-372e9ea24850",
        "colab": {
          "base_uri": "https://localhost:8080/",
          "height": 34
        }
      },
      "source": [
        "#7-7\n",
        "que=\"Guten Morgen\"\n",
        "ans=\"\"\n",
        "ans=que[2:5:1]\n",
        "print(ans.upper())"
      ],
      "execution_count": 0,
      "outputs": [
        {
          "output_type": "stream",
          "text": [
            "TEN\n"
          ],
          "name": "stdout"
        }
      ]
    },
    {
      "cell_type": "code",
      "metadata": {
        "id": "Y8SR4YVFzdO4",
        "colab_type": "code",
        "outputId": "8eca62a9-0a8d-4282-934c-421782666351",
        "colab": {
          "base_uri": "https://localhost:8080/",
          "height": 34
        }
      },
      "source": [
        "#7-7\n",
        "ans=\"\"\n",
        "ans=\"RaceTrack\"[1:4:1]\n",
        "print(ans.capitalize())"
      ],
      "execution_count": 0,
      "outputs": [
        {
          "output_type": "stream",
          "text": [
            "Ace\n"
          ],
          "name": "stdout"
        }
      ]
    },
    {
      "cell_type": "code",
      "metadata": {
        "id": "-zManW7ZkYmr",
        "colab_type": "code",
        "outputId": "b857d361-2527-4aeb-be6c-970749ccc9b0",
        "colab": {
          "base_uri": "https://localhost:8080/",
          "height": 118
        }
      },
      "source": [
        "#8-2\n",
        "a=\"python 4 ever&EVER\"\n",
        "print(a.find(\"E\"))\n",
        "print(a.find(\"eve\"))\n",
        "print(a.rfind(\"rev\"))\n",
        "print(a.rfind(\"VER\"))\n",
        "print(a.find(\" \"))\n",
        "print(a.rfind(\" \"))"
      ],
      "execution_count": 0,
      "outputs": [
        {
          "output_type": "stream",
          "text": [
            "14\n",
            "9\n",
            "-1\n",
            "15\n",
            "6\n",
            "8\n"
          ],
          "name": "stdout"
        }
      ]
    },
    {
      "cell_type": "code",
      "metadata": {
        "id": "EK_gU5rNrAe1",
        "colab_type": "code",
        "outputId": "575bdf6f-1ce6-4776-9e63-04ffa3e953d9",
        "colab": {
          "base_uri": "https://localhost:8080/",
          "height": 67
        }
      },
      "source": [
        "#8-3\n",
        "a=\"python 4 ever&EVER\"\n",
        "print(\"on\" in a)\n",
        "print(\"\" in a)\n",
        "print(\"2*2\" in a)\n",
        "\n"
      ],
      "execution_count": 0,
      "outputs": [
        {
          "output_type": "stream",
          "text": [
            "True\n",
            "True\n",
            "False\n"
          ],
          "name": "stdout"
        }
      ]
    },
    {
      "cell_type": "code",
      "metadata": {
        "id": "a7F9BV0NsPnc",
        "colab_type": "code",
        "outputId": "1ad2537e-fdc9-491d-85e3-06e0690f5cc3",
        "colab": {
          "base_uri": "https://localhost:8080/",
          "height": 84
        }
      },
      "source": [
        "#8-3\n",
        "a=\"python 4 ever&EVER\"\n",
        "print(a.count(\"ev\"))\n",
        "print(a.count(\" \"))\n",
        "print(a.count(\" 4 \"))\n",
        "print(a.count(\"eVer\"))"
      ],
      "execution_count": 0,
      "outputs": [
        {
          "output_type": "stream",
          "text": [
            "1\n",
            "2\n",
            "1\n",
            "0\n"
          ],
          "name": "stdout"
        }
      ]
    },
    {
      "cell_type": "code",
      "metadata": {
        "id": "8HwmrV50tzVg",
        "colab_type": "code",
        "outputId": "78ef050a-1fb3-4dc0-a6da-0ef8e3f92d93",
        "colab": {
          "base_uri": "https://localhost:8080/",
          "height": 84
        }
      },
      "source": [
        "#8-4\n",
        "a=\"Raining in the spring time\"\n",
        "print(a.replace(\"R\",\"r\"))\n",
        "print(a.replace(\"ing\",\"\"))\n",
        "print(a.replace(\"!\",\".\"))\n",
        "b=a.replace(\"time\",\"tiempo\")\n",
        "print(b)"
      ],
      "execution_count": 0,
      "outputs": [
        {
          "output_type": "stream",
          "text": [
            "raining in the spring time\n",
            "Rain in the spr time\n",
            "Raining in the spring time\n",
            "Raining in the spring tiempo\n"
          ],
          "name": "stdout"
        }
      ]
    },
    {
      "cell_type": "code",
      "metadata": {
        "id": "bS8Bl2LUvmQE",
        "colab_type": "code",
        "outputId": "7e675802-2ea2-4be5-b5b0-6b4fd71746a7",
        "colab": {
          "base_uri": "https://localhost:8080/",
          "height": 84
        }
      },
      "source": [
        "#8-5\n",
        "print(\"la\"+\"la\"+\"Land\")\n",
        "print(\"USA\"+\" vs \"+\"Canada\")\n",
        "b=\"NYc\"\n",
        "c=5\n",
        "print(b*c)\n",
        "color=\"red\"\n",
        "shape=\"circle\"\n",
        "number=3\n",
        "print(number*(color+\"-\"+shape))"
      ],
      "execution_count": 0,
      "outputs": [
        {
          "output_type": "stream",
          "text": [
            "lalaLand\n",
            "USA vs Canada\n",
            "NYcNYcNYcNYcNYc\n",
            "red-circlered-circlered-circle\n"
          ],
          "name": "stdout"
        }
      ]
    },
    {
      "cell_type": "code",
      "metadata": {
        "id": "hpfPB3bfGCED",
        "colab_type": "code",
        "colab": {
          "base_uri": "https://localhost:8080/",
          "height": 34
        },
        "outputId": "d95debf0-746f-426b-97e7-a23b227cf403"
      },
      "source": [
        "#8-5\n",
        "a=\"Eat Work Play Sleep repert\"[4:13]\n",
        "a=a.replace(\"Work\",\"working\")\n",
        "a=a.replace(\"Play\",\"playing\")\n",
        "print(a)\n"
      ],
      "execution_count": 5,
      "outputs": [
        {
          "output_type": "stream",
          "text": [
            "working playing\n"
          ],
          "name": "stdout"
        }
      ]
    },
    {
      "cell_type": "code",
      "metadata": {
        "id": "qepOd5cdKg8l",
        "colab_type": "code",
        "colab": {
          "base_uri": "https://localhost:8080/",
          "height": 67
        },
        "outputId": "27f6e8a3-7747-4e8b-c4bf-91cfe74b8218"
      },
      "source": [
        "#8-5\n",
        "a=\"For Tommy and Gina who never backed down.\"\n",
        "print(a.replace(\"Tommy\",\"Ammy\"))\n",
        "print(a.replace(\"Tommy\",\"Ammy\"))\n",
        "print(a.replace(\"Tommy\",\"Ammy\"))"
      ],
      "execution_count": 7,
      "outputs": [
        {
          "output_type": "stream",
          "text": [
            "For Ammy and Gina who never backed down.\n",
            "For Ammy and Gina who never backed down.\n",
            "For Ammy and Gina who never backed down.\n"
          ],
          "name": "stdout"
        }
      ]
    },
    {
      "cell_type": "code",
      "metadata": {
        "id": "f-WJFDJTPjEv",
        "colab_type": "code",
        "colab": {
          "base_uri": "https://localhost:8080/",
          "height": 101
        },
        "outputId": "3647e366-3f35-4e67-a3cd-421b5c9120ff"
      },
      "source": [
        "#9-4\n",
        "print((\"abc\",(1,2,3))[1])\n",
        "print((\"abc\",(1,2,\"3\"))[1][2])\n",
        "print((\"abc\",(1,2),\"3\",4,(\"5\",\"6\"))[1:3])\n",
        "print((\"abc\",123)[0][0])\n",
        "a=0\n",
        "t=(True,\"True\")\n",
        "print(t[a])"
      ],
      "execution_count": 12,
      "outputs": [
        {
          "output_type": "stream",
          "text": [
            "(1, 2, 3)\n",
            "3\n",
            "((1, 2), '3')\n",
            "a\n",
            "True\n"
          ],
          "name": "stdout"
        }
      ]
    },
    {
      "cell_type": "code",
      "metadata": {
        "id": "zg9JOzC9UQ6l",
        "colab_type": "code",
        "colab": {
          "base_uri": "https://localhost:8080/",
          "height": 84
        },
        "outputId": "b9cf90d9-3f29-45ad-9a5b-b3b3667f95aa"
      },
      "source": [
        "#9-4\n",
        "print(len(\"abc\")*(\"no\",))\n",
        "print(2*(\"no\",\"no\",\"no\"))\n",
        "print((0,0,0)+(1,))\n",
        "print((1,1)+(1,1))"
      ],
      "execution_count": 16,
      "outputs": [
        {
          "output_type": "stream",
          "text": [
            "('no', 'no', 'no')\n",
            "('no', 'no', 'no', 'no', 'no', 'no')\n",
            "(0, 0, 0, 1)\n",
            "(1, 1, 1, 1)\n"
          ],
          "name": "stdout"
        }
      ]
    },
    {
      "cell_type": "code",
      "metadata": {
        "id": "2C3ThHQUX8O0",
        "colab_type": "code",
        "colab": {
          "base_uri": "https://localhost:8080/",
          "height": 84
        },
        "outputId": "767735a1-2b86-441a-ad4e-903d415e99d8"
      },
      "source": [
        "#9-5\n",
        "s=\"strong\"\n",
        "w=\"weak\"\n",
        "print((s,w))\n",
        "(s,w)=(w,s)\n",
        "print((s,w))\n",
        "yes=\"affirmative\"\n",
        "no=\"negative\"\n",
        "print((yes,no))\n",
        "(yes,no)=(no,yes)\n",
        "print((yes,no))"
      ],
      "execution_count": 22,
      "outputs": [
        {
          "output_type": "stream",
          "text": [
            "('strong', 'weak')\n",
            "('weak', 'strong')\n",
            "('affirmative', 'negative')\n",
            "('negative', 'affirmative')\n"
          ],
          "name": "stdout"
        }
      ]
    },
    {
      "cell_type": "code",
      "metadata": {
        "id": "zsIYB0JMY0K0",
        "colab_type": "code",
        "colab": {
          "base_uri": "https://localhost:8080/",
          "height": 151
        },
        "outputId": "aa586fed-8bb8-4275-fb18-a916d507bb23"
      },
      "source": [
        "#9-7\n",
        "s=\"python\"\n",
        "print(s[ :2])\n",
        "print(s[-2: ])\n",
        "print(s[ :-1])\n",
        "print(s[-2:-2])\n",
        "print(s[-2:20])\n",
        "print(s[-3: :-1])\n",
        "print(s[ :3:-2])\n",
        "print(s[ : :-3])\n"
      ],
      "execution_count": 31,
      "outputs": [
        {
          "output_type": "stream",
          "text": [
            "py\n",
            "on\n",
            "pytho\n",
            "\n",
            "on\n",
            "htyp\n",
            "n\n",
            "nt\n"
          ],
          "name": "stdout"
        }
      ]
    },
    {
      "cell_type": "code",
      "metadata": {
        "id": "PGTLa_1HdFWJ",
        "colab_type": "code",
        "colab": {
          "base_uri": "https://localhost:8080/",
          "height": 34
        },
        "outputId": "929dda67-b92e-467d-921f-d078844bdd79"
      },
      "source": [
        "#9-8\n",
        "word=\"echo\"\n",
        "t=()\n",
        "\n",
        "count=3\n",
        "\n",
        "for i in range(-4,0,1):\n",
        "    t=t+count*(word[i: ],)\n",
        "print(t)"
      ],
      "execution_count": 73,
      "outputs": [
        {
          "output_type": "stream",
          "text": [
            "('echo', 'echo', 'echo', 'cho', 'cho', 'cho', 'ho', 'ho', 'ho', 'o', 'o', 'o')\n"
          ],
          "name": "stdout"
        }
      ]
    }
  ]
}